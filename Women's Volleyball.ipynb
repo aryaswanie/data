{
 "cells": [
  {
   "cell_type": "code",
   "execution_count": 47,
   "metadata": {},
   "outputs": [],
   "source": [
    "import json\n",
    "import re\n",
    "\n",
    "import requests\n",
    "import scrapy"
   ]
  },
  {
   "cell_type": "code",
   "execution_count": 48,
   "metadata": {},
   "outputs": [],
   "source": [
    "headers = {'User-Agent': 'UNC Journo Class'}"
   ]
  },
  {
   "cell_type": "code",
   "execution_count": 49,
   "metadata": {},
   "outputs": [],
   "source": [
    "#get the url from the volleyball roster "
   ]
  },
  {
   "cell_type": "code",
   "execution_count": 50,
   "metadata": {},
   "outputs": [],
   "source": [
    "base_url = 'http://goheels.com'\n",
    "url = base_url + '//roster.aspx?path=wvball'"
   ]
  },
  {
   "cell_type": "code",
   "execution_count": 51,
   "metadata": {},
   "outputs": [],
   "source": [
    "resp = requests.get(url, headers=headers)"
   ]
  },
  {
   "cell_type": "code",
   "execution_count": 52,
   "metadata": {},
   "outputs": [],
   "source": [
    "body_str = resp.content.decode('utf-8')"
   ]
  },
  {
   "cell_type": "code",
   "execution_count": 53,
   "metadata": {},
   "outputs": [],
   "source": [
    "sel = scrapy.Selector(text=body_str)"
   ]
  },
  {
   "cell_type": "code",
   "execution_count": 54,
   "metadata": {},
   "outputs": [],
   "source": [
    "#find the table of data"
   ]
  },
  {
   "cell_type": "code",
   "execution_count": 55,
   "metadata": {},
   "outputs": [],
   "source": [
    "table = sel.css('table')[0]\n"
   ]
  },
  {
   "cell_type": "code",
   "execution_count": 56,
   "metadata": {},
   "outputs": [],
   "source": [
    "cols = table.css('th').xpath('string()').extract()"
   ]
  },
  {
   "cell_type": "code",
   "execution_count": 57,
   "metadata": {},
   "outputs": [],
   "source": [
    "rows = table.css('tr')[1:]"
   ]
  },
  {
   "cell_type": "code",
   "execution_count": 58,
   "metadata": {},
   "outputs": [],
   "source": [
    "#build a player list and a data library. iterate through the data to get all the names & info. codes reference from Scrape_Heels_Baseball.ipynb"
   ]
  },
  {
   "cell_type": "code",
   "execution_count": 59,
   "metadata": {},
   "outputs": [],
   "source": [
    "players = []\n",
    "for r in rows:\n",
    "    data = {}\n",
    "    for i, d in enumerate(r.css('td')):\n",
    "        link = d.css('a')\n",
    "        if link:\n",
    "            t = link.xpath('text()').extract()[0]\n",
    "            data['href'] = link.xpath('@href').extract()[0]\n",
    "        else:\n",
    "            t = d.xpath('text()').extract()\n",
    "        data[cols[i]] = t\n",
    "    players.append(data)"
   ]
  },
  {
   "cell_type": "code",
   "execution_count": null,
   "metadata": {},
   "outputs": [],
   "source": [
    "#get the bio from all players. codes reference from Scrape_Heels_Baseball.ipynb"
   ]
  },
  {
   "cell_type": "code",
   "execution_count": 60,
   "metadata": {},
   "outputs": [],
   "source": [
    "def fetch_bio(player):\n",
    "    player_url = base_url + player['href']\n",
    "    resp = requests.get(player_url, headers=headers)\n",
    "    player_txt = resp.content.decode('utf-8')\n",
    "    sel = scrapy.Selector(text=player_txt)\n",
    "    player['sel'] = sel\n",
    "    player['bio'] = sel.css('#sidearm-roster-player-bio').xpath('string()').extract()[0]\n",
    "    player['img'] = sel.css('.sidearm-roster-player-image img').xpath('@src').extract()[0]"
   ]
  },
  {
   "cell_type": "code",
   "execution_count": 61,
   "metadata": {},
   "outputs": [],
   "source": [
    "#get stats of the players. all these codes come from Scrape_Heels_Baseball.ipynb "
   ]
  },
  {
   "cell_type": "code",
   "execution_count": 25,
   "metadata": {},
   "outputs": [],
   "source": [
    "js_obj_rx = re.compile(r'.*?responsive-roster-bio\\.ashx.*?(?P<obj>{.*?})')"
   ]
  },
  {
   "cell_type": "code",
   "execution_count": 26,
   "metadata": {},
   "outputs": [],
   "source": [
    "def fetch_stats(player):\n",
    "    text = player['sel'].xpath('string()').extract()[0]\n",
    "    parts = text.split('$.getJSON(\"/services/')[1:]\n",
    "    captured = js_obj_rx.findall(''.join(parts))\n",
    "    clean_objs = []\n",
    "    for obj_str in captured:\n",
    "        # We only want the stats object...\n",
    "        if 'stats' not in obj_str:\n",
    "            continue\n",
    "\n",
    "        obj_str = obj_str.replace('{', '').replace('}', '')\n",
    "        obj_str = obj_str.replace(\"'\", '').replace('\"', '')\n",
    "        obj_pairs = obj_str.split(',')\n",
    "        obj_pairs = [x.split(\":\") for x in obj_pairs]\n",
    "        clean_pairs = []\n",
    "        for pair in obj_pairs:\n",
    "            clean_pairs.append(['\"{}\"'.format(p.strip()) for p in pair])\n",
    "        colonized = [\":\".join(p) for p in clean_pairs]\n",
    "        commas = ','.join(colonized)\n",
    "        json_str = \"{\" + commas + \"}\"\n",
    "        clean_objs.append(json.loads(json_str))\n",
    "    \n",
    "    player['stats_url'] = stats_url = (\n",
    "        \"http://goheels.com/services/responsive-roster-bio.ashx?\"\n",
    "        \"type={type}&rp_id={rp_id}&path={path}&year={year}\"\n",
    "        \"&player_id={player_id}\"\n",
    "    ).format(**clean_objs[0])\n",
    "\n",
    "    resp = requests.get(stats_url, headers=headers)\n",
    "    json_stats = json.loads(resp.content.decode(\"utf-8\"))\n",
    "    player['raw_stats'] = json_stats"
   ]
  },
  {
   "cell_type": "code",
   "execution_count": null,
   "metadata": {},
   "outputs": [],
   "source": [
    "#fetch everything. this takes forever on my old computer. codes reference from Scrape_Heels_Baseball.ipynb"
   ]
  },
  {
   "cell_type": "code",
   "execution_count": 65,
   "metadata": {},
   "outputs": [],
   "source": [
    "for p in players:\n",
    "    fetch_bio(p)\n",
    "    fetch_stats(p)"
   ]
  },
  {
   "cell_type": "code",
   "execution_count": 66,
   "metadata": {},
   "outputs": [],
   "source": [
    "#get what I'll be working on"
   ]
  },
  {
   "cell_type": "code",
   "execution_count": 67,
   "metadata": {},
   "outputs": [],
   "source": [
    "txt = p['raw_stats']['career_stats']\n",
    "sel = scrapy.Selector(text=txt)"
   ]
  },
  {
   "cell_type": "code",
   "execution_count": 68,
   "metadata": {},
   "outputs": [],
   "source": [
    "#get the player's name"
   ]
  },
  {
   "cell_type": "code",
   "execution_count": 69,
   "metadata": {},
   "outputs": [],
   "source": [
    "def get_name(player):\n",
    "        return player['Full Name']"
   ]
  },
  {
   "cell_type": "code",
   "execution_count": 70,
   "metadata": {},
   "outputs": [],
   "source": [
    "#get the year of the data"
   ]
  },
  {
   "cell_type": "code",
   "execution_count": 71,
   "metadata": {},
   "outputs": [],
   "source": [
    "def get_data_year(player):\n",
    "        txt = player['raw_stats']['career_stats']\n",
    "        sel = scrapy.Selector(text=txt)\n",
    "        table = sel.css('.sidearm-table')\n",
    "        chart_col=table.css('tr')[1].css('th').xpath('string()').extract()\n",
    "        return chart_col\n"
   ]
  },
  {
   "cell_type": "code",
   "execution_count": 76,
   "metadata": {},
   "outputs": [],
   "source": [
    "#get the colums of the data"
   ]
  },
  {
   "cell_type": "code",
   "execution_count": 77,
   "metadata": {},
   "outputs": [],
   "source": [
    "def get_col(player):\n",
    "        txt = player['raw_stats']['career_stats']\n",
    "        sel = scrapy.Selector(text=txt)\n",
    "        table = sel.css('.sidearm-table')\n",
    "        chart_col=table.css('tr')[3].css('th').xpath('string()').extract()\n",
    "        chart_col.pop(0)\n",
    "        return chart_col\n"
   ]
  },
  {
   "cell_type": "code",
   "execution_count": 79,
   "metadata": {},
   "outputs": [],
   "source": [
    "#get data points"
   ]
  },
  {
   "cell_type": "code",
   "execution_count": 80,
   "metadata": {},
   "outputs": [],
   "source": [
    "def get_data(player):\n",
    "    txt = player['raw_stats']['career_stats']\n",
    "    sel = scrapy.Selector(text=txt)\n",
    "    table = sel.css('.sidearm-table')\n",
    "    chart_data=table.css('tr')[2].css('td').xpath('string()').extract()\n",
    "    return chart_data"
   ]
  },
  {
   "cell_type": "code",
   "execution_count": 84,
   "metadata": {},
   "outputs": [],
   "source": [
    "#get the second row of data"
   ]
  },
  {
   "cell_type": "code",
   "execution_count": 85,
   "metadata": {},
   "outputs": [],
   "source": [
    "def get_data_2(player):\n",
    "    txt = player['raw_stats']['career_stats']\n",
    "    sel = scrapy.Selector(text=txt)\n",
    "    table = sel.css('.sidearm-table')\n",
    "    chart_data=table.css('tr')[4].css('td').xpath('string()').extract()\n",
    "    return chart_data"
   ]
  },
  {
   "cell_type": "code",
   "execution_count": 89,
   "metadata": {},
   "outputs": [],
   "source": [
    "#get the title of the chart"
   ]
  },
  {
   "cell_type": "code",
   "execution_count": 90,
   "metadata": {},
   "outputs": [],
   "source": [
    "def get_chart_title_1(player):\n",
    "    txt = player['raw_stats']['career_stats']\n",
    "    sel = scrapy.Selector(text=txt)\n",
    "    caption = sel.css('.hide')\n",
    "    title = caption.css('caption').xpath('string()').extract()\n",
    "    title.pop(1)\n",
    "    return title\n",
    "    "
   ]
  },
  {
   "cell_type": "code",
   "execution_count": 100,
   "metadata": {},
   "outputs": [],
   "source": [
    "#get the title of the other chart"
   ]
  },
  {
   "cell_type": "code",
   "execution_count": 92,
   "metadata": {},
   "outputs": [],
   "source": [
    "def get_chart_title_2(player):\n",
    "    txt = player['raw_stats']['career_stats']\n",
    "    sel = scrapy.Selector(text=txt)\n",
    "    caption = sel.css('.hide')\n",
    "    title = caption.css('caption').xpath('string()').extract()\n",
    "    title.pop(0)\n",
    "    return title\n",
    "    "
   ]
  },
  {
   "cell_type": "code",
   "execution_count": 101,
   "metadata": {},
   "outputs": [],
   "source": [
    "#start parsing!!!"
   ]
  },
  {
   "cell_type": "code",
   "execution_count": 102,
   "metadata": {},
   "outputs": [],
   "source": [
    "player_stats = []"
   ]
  },
  {
   "cell_type": "code",
   "execution_count": 103,
   "metadata": {},
   "outputs": [],
   "source": [
    "def parse_stats(player):\n",
    "    for raw_key, raw_val in player['raw_stats'].items():\n",
    "        txt = player['raw_stats'][raw_key]\n",
    "        if not txt:\n",
    "            print('Skipping {} for {}'.format(raw_key, player['Full Name']))\n",
    "            continue\n",
    "    txt = player['raw_stats']['career_stats']\n",
    "    sel = scrapy.Selector(text=txt)\n",
    "    player_stats.append({\n",
    "            \"name\":get_name(player),\n",
    "            \"Chart#1\":get_chart_title_1(player),\n",
    "            \"cols_1\":get_col(player),\n",
    "            \"cols_2\":get_data(player),\n",
    "            \"Chart#2\":get_chart_title_2(player),\n",
    "            \"cols_1\":get_col_2(player),\n",
    "            \"cols_2\":get_data_2(player),\n",
    "            \n",
    "        })\n",
    "    print(player_stats)\n",
    "    return player_stats\n",
    "    \n",
    "        \n"
   ]
  },
  {
   "cell_type": "code",
   "execution_count": 97,
   "metadata": {},
   "outputs": [
    {
     "name": "stdout",
     "output_type": "stream",
     "text": [
      "Skipping current_stats for Mariah Evans\n",
      "Skipping gamehigh_stats for Mariah Evans\n",
      "[{'name': 'Mariah Evans', 'Chart#1': ['Career Offensive Statistics'], 'cols_1': ['DIG', 'D/S', 'RE', 'BS', 'BA', 'TB', 'B/S', 'BE', 'BHE', 'PTS', 'PTS/S'], 'cols_2': ['168', '1.38', '0', '0', '2', '2', '0.02', '0', '27', '25.0', '0.20'], 'Chart#2': ['Career Defensive Statistics']}]\n",
      "Skipping current_stats for Kendra Koetter\n",
      "Skipping gamehigh_stats for Kendra Koetter\n",
      "[{'name': 'Mariah Evans', 'Chart#1': ['Career Offensive Statistics'], 'cols_1': ['DIG', 'D/S', 'RE', 'BS', 'BA', 'TB', 'B/S', 'BE', 'BHE', 'PTS', 'PTS/S'], 'cols_2': ['168', '1.38', '0', '0', '2', '2', '0.02', '0', '27', '25.0', '0.20'], 'Chart#2': ['Career Defensive Statistics']}, {'name': 'Kendra Koetter', 'Chart#1': ['Career Offensive Statistics'], 'cols_1': ['DIG', 'D/S', 'RE', 'BS', 'BA', 'TB', 'B/S', 'BE', 'BHE', 'PTS', 'PTS/S'], 'cols_2': ['146', '1.54', '1', '0', '0', '0', '0.00', '2', '18', '24.0', '0.25'], 'Chart#2': ['Career Defensive Statistics']}]\n",
      "Skipping current_stats for Taylor Borup\n",
      "Skipping gamehigh_stats for Taylor Borup\n",
      "[{'name': 'Mariah Evans', 'Chart#1': ['Career Offensive Statistics'], 'cols_1': ['DIG', 'D/S', 'RE', 'BS', 'BA', 'TB', 'B/S', 'BE', 'BHE', 'PTS', 'PTS/S'], 'cols_2': ['168', '1.38', '0', '0', '2', '2', '0.02', '0', '27', '25.0', '0.20'], 'Chart#2': ['Career Defensive Statistics']}, {'name': 'Kendra Koetter', 'Chart#1': ['Career Offensive Statistics'], 'cols_1': ['DIG', 'D/S', 'RE', 'BS', 'BA', 'TB', 'B/S', 'BE', 'BHE', 'PTS', 'PTS/S'], 'cols_2': ['146', '1.54', '1', '0', '0', '0', '0.00', '2', '18', '24.0', '0.25'], 'Chart#2': ['Career Defensive Statistics']}, {'name': 'Taylor Borup', 'Chart#1': ['Career Offensive Statistics'], 'cols_1': [], 'cols_2': [], 'Chart#2': ['Career Defensive Statistics']}]\n",
      "Skipping current_stats for Holly Carlton\n",
      "Skipping gamehigh_stats for Holly Carlton\n",
      "[{'name': 'Mariah Evans', 'Chart#1': ['Career Offensive Statistics'], 'cols_1': ['DIG', 'D/S', 'RE', 'BS', 'BA', 'TB', 'B/S', 'BE', 'BHE', 'PTS', 'PTS/S'], 'cols_2': ['168', '1.38', '0', '0', '2', '2', '0.02', '0', '27', '25.0', '0.20'], 'Chart#2': ['Career Defensive Statistics']}, {'name': 'Kendra Koetter', 'Chart#1': ['Career Offensive Statistics'], 'cols_1': ['DIG', 'D/S', 'RE', 'BS', 'BA', 'TB', 'B/S', 'BE', 'BHE', 'PTS', 'PTS/S'], 'cols_2': ['146', '1.54', '1', '0', '0', '0', '0.00', '2', '18', '24.0', '0.25'], 'Chart#2': ['Career Defensive Statistics']}, {'name': 'Taylor Borup', 'Chart#1': ['Career Offensive Statistics'], 'cols_1': [], 'cols_2': [], 'Chart#2': ['Career Defensive Statistics']}, {'name': 'Holly Carlton', 'Chart#1': ['Career Offensive Statistics'], 'cols_1': ['DIG', 'D/S', 'RE', 'BS', 'BA', 'TB', 'B/S', 'BE', 'BHE', 'PTS', 'PTS/S'], 'cols_2': ['218', '2.06', '0', '0', '76', '76', '0.72', '4', '12', '240.0', '2.26'], 'Chart#2': ['Career Defensive Statistics']}]\n",
      "Skipping current_stats for Katharine Esterley\n",
      "Skipping gamehigh_stats for Katharine Esterley\n",
      "[{'name': 'Mariah Evans', 'Chart#1': ['Career Offensive Statistics'], 'cols_1': ['DIG', 'D/S', 'RE', 'BS', 'BA', 'TB', 'B/S', 'BE', 'BHE', 'PTS', 'PTS/S'], 'cols_2': ['168', '1.38', '0', '0', '2', '2', '0.02', '0', '27', '25.0', '0.20'], 'Chart#2': ['Career Defensive Statistics']}, {'name': 'Kendra Koetter', 'Chart#1': ['Career Offensive Statistics'], 'cols_1': ['DIG', 'D/S', 'RE', 'BS', 'BA', 'TB', 'B/S', 'BE', 'BHE', 'PTS', 'PTS/S'], 'cols_2': ['146', '1.54', '1', '0', '0', '0', '0.00', '2', '18', '24.0', '0.25'], 'Chart#2': ['Career Defensive Statistics']}, {'name': 'Taylor Borup', 'Chart#1': ['Career Offensive Statistics'], 'cols_1': [], 'cols_2': [], 'Chart#2': ['Career Defensive Statistics']}, {'name': 'Holly Carlton', 'Chart#1': ['Career Offensive Statistics'], 'cols_1': ['DIG', 'D/S', 'RE', 'BS', 'BA', 'TB', 'B/S', 'BE', 'BHE', 'PTS', 'PTS/S'], 'cols_2': ['218', '2.06', '0', '0', '76', '76', '0.72', '4', '12', '240.0', '2.26'], 'Chart#2': ['Career Defensive Statistics']}, {'name': 'Katharine Esterley', 'Chart#1': ['Career Offensive Statistics'], 'cols_1': ['DIG', 'D/S', 'RE', 'BS', 'BA', 'TB', 'B/S', 'BE', 'BHE', 'PTS', 'PTS/S'], 'cols_2': ['13', '0.15', '1', '3', '124', '127', '1.44', '10', '0', '143.0', '1.63'], 'Chart#2': ['Career Defensive Statistics']}]\n",
      "Skipping current_stats for Casey Jacobs\n",
      "Skipping gamehigh_stats for Casey Jacobs\n",
      "[{'name': 'Mariah Evans', 'Chart#1': ['Career Offensive Statistics'], 'cols_1': ['DIG', 'D/S', 'RE', 'BS', 'BA', 'TB', 'B/S', 'BE', 'BHE', 'PTS', 'PTS/S'], 'cols_2': ['168', '1.38', '0', '0', '2', '2', '0.02', '0', '27', '25.0', '0.20'], 'Chart#2': ['Career Defensive Statistics']}, {'name': 'Kendra Koetter', 'Chart#1': ['Career Offensive Statistics'], 'cols_1': ['DIG', 'D/S', 'RE', 'BS', 'BA', 'TB', 'B/S', 'BE', 'BHE', 'PTS', 'PTS/S'], 'cols_2': ['146', '1.54', '1', '0', '0', '0', '0.00', '2', '18', '24.0', '0.25'], 'Chart#2': ['Career Defensive Statistics']}, {'name': 'Taylor Borup', 'Chart#1': ['Career Offensive Statistics'], 'cols_1': [], 'cols_2': [], 'Chart#2': ['Career Defensive Statistics']}, {'name': 'Holly Carlton', 'Chart#1': ['Career Offensive Statistics'], 'cols_1': ['DIG', 'D/S', 'RE', 'BS', 'BA', 'TB', 'B/S', 'BE', 'BHE', 'PTS', 'PTS/S'], 'cols_2': ['218', '2.06', '0', '0', '76', '76', '0.72', '4', '12', '240.0', '2.26'], 'Chart#2': ['Career Defensive Statistics']}, {'name': 'Katharine Esterley', 'Chart#1': ['Career Offensive Statistics'], 'cols_1': ['DIG', 'D/S', 'RE', 'BS', 'BA', 'TB', 'B/S', 'BE', 'BHE', 'PTS', 'PTS/S'], 'cols_2': ['13', '0.15', '1', '3', '124', '127', '1.44', '10', '0', '143.0', '1.63'], 'Chart#2': ['Career Defensive Statistics']}, {'name': 'Casey Jacobs', 'Chart#1': ['Career Offensive Statistics'], 'cols_1': [], 'cols_2': ['141', '52', '3', '0.02', '0', '7', '.429', '88', '0.62', '8', '0.06', '30'], 'Chart#2': ['Career Defensive Statistics']}]\n",
      "Skipping current_stats for Sydnye Fields\n",
      "Skipping gamehigh_stats for Sydnye Fields\n",
      "[{'name': 'Mariah Evans', 'Chart#1': ['Career Offensive Statistics'], 'cols_1': ['DIG', 'D/S', 'RE', 'BS', 'BA', 'TB', 'B/S', 'BE', 'BHE', 'PTS', 'PTS/S'], 'cols_2': ['168', '1.38', '0', '0', '2', '2', '0.02', '0', '27', '25.0', '0.20'], 'Chart#2': ['Career Defensive Statistics']}, {'name': 'Kendra Koetter', 'Chart#1': ['Career Offensive Statistics'], 'cols_1': ['DIG', 'D/S', 'RE', 'BS', 'BA', 'TB', 'B/S', 'BE', 'BHE', 'PTS', 'PTS/S'], 'cols_2': ['146', '1.54', '1', '0', '0', '0', '0.00', '2', '18', '24.0', '0.25'], 'Chart#2': ['Career Defensive Statistics']}, {'name': 'Taylor Borup', 'Chart#1': ['Career Offensive Statistics'], 'cols_1': [], 'cols_2': [], 'Chart#2': ['Career Defensive Statistics']}, {'name': 'Holly Carlton', 'Chart#1': ['Career Offensive Statistics'], 'cols_1': ['DIG', 'D/S', 'RE', 'BS', 'BA', 'TB', 'B/S', 'BE', 'BHE', 'PTS', 'PTS/S'], 'cols_2': ['218', '2.06', '0', '0', '76', '76', '0.72', '4', '12', '240.0', '2.26'], 'Chart#2': ['Career Defensive Statistics']}, {'name': 'Katharine Esterley', 'Chart#1': ['Career Offensive Statistics'], 'cols_1': ['DIG', 'D/S', 'RE', 'BS', 'BA', 'TB', 'B/S', 'BE', 'BHE', 'PTS', 'PTS/S'], 'cols_2': ['13', '0.15', '1', '3', '124', '127', '1.44', '10', '0', '143.0', '1.63'], 'Chart#2': ['Career Defensive Statistics']}, {'name': 'Casey Jacobs', 'Chart#1': ['Career Offensive Statistics'], 'cols_1': [], 'cols_2': ['141', '52', '3', '0.02', '0', '7', '.429', '88', '0.62', '8', '0.06', '30'], 'Chart#2': ['Career Defensive Statistics']}, {'name': 'Sydnye Fields', 'Chart#1': ['Career Offensive Statistics'], 'cols_1': [], 'cols_2': [], 'Chart#2': ['Career Defensive Statistics']}]\n",
      "Skipping current_stats for Julia Scoles\n",
      "Skipping gamehigh_stats for Julia Scoles\n",
      "[{'name': 'Mariah Evans', 'Chart#1': ['Career Offensive Statistics'], 'cols_1': ['DIG', 'D/S', 'RE', 'BS', 'BA', 'TB', 'B/S', 'BE', 'BHE', 'PTS', 'PTS/S'], 'cols_2': ['168', '1.38', '0', '0', '2', '2', '0.02', '0', '27', '25.0', '0.20'], 'Chart#2': ['Career Defensive Statistics']}, {'name': 'Kendra Koetter', 'Chart#1': ['Career Offensive Statistics'], 'cols_1': ['DIG', 'D/S', 'RE', 'BS', 'BA', 'TB', 'B/S', 'BE', 'BHE', 'PTS', 'PTS/S'], 'cols_2': ['146', '1.54', '1', '0', '0', '0', '0.00', '2', '18', '24.0', '0.25'], 'Chart#2': ['Career Defensive Statistics']}, {'name': 'Taylor Borup', 'Chart#1': ['Career Offensive Statistics'], 'cols_1': [], 'cols_2': [], 'Chart#2': ['Career Defensive Statistics']}, {'name': 'Holly Carlton', 'Chart#1': ['Career Offensive Statistics'], 'cols_1': ['DIG', 'D/S', 'RE', 'BS', 'BA', 'TB', 'B/S', 'BE', 'BHE', 'PTS', 'PTS/S'], 'cols_2': ['218', '2.06', '0', '0', '76', '76', '0.72', '4', '12', '240.0', '2.26'], 'Chart#2': ['Career Defensive Statistics']}, {'name': 'Katharine Esterley', 'Chart#1': ['Career Offensive Statistics'], 'cols_1': ['DIG', 'D/S', 'RE', 'BS', 'BA', 'TB', 'B/S', 'BE', 'BHE', 'PTS', 'PTS/S'], 'cols_2': ['13', '0.15', '1', '3', '124', '127', '1.44', '10', '0', '143.0', '1.63'], 'Chart#2': ['Career Defensive Statistics']}, {'name': 'Casey Jacobs', 'Chart#1': ['Career Offensive Statistics'], 'cols_1': [], 'cols_2': ['141', '52', '3', '0.02', '0', '7', '.429', '88', '0.62', '8', '0.06', '30'], 'Chart#2': ['Career Defensive Statistics']}, {'name': 'Sydnye Fields', 'Chart#1': ['Career Offensive Statistics'], 'cols_1': [], 'cols_2': [], 'Chart#2': ['Career Defensive Statistics']}, {'name': 'Julia Scoles', 'Chart#1': ['Career Offensive Statistics'], 'cols_1': [], 'cols_2': [], 'Chart#2': ['Career Defensive Statistics']}]\n",
      "Skipping current_stats for Mia Fradenburg\n",
      "Skipping gamehigh_stats for Mia Fradenburg\n",
      "[{'name': 'Mariah Evans', 'Chart#1': ['Career Offensive Statistics'], 'cols_1': ['DIG', 'D/S', 'RE', 'BS', 'BA', 'TB', 'B/S', 'BE', 'BHE', 'PTS', 'PTS/S'], 'cols_2': ['168', '1.38', '0', '0', '2', '2', '0.02', '0', '27', '25.0', '0.20'], 'Chart#2': ['Career Defensive Statistics']}, {'name': 'Kendra Koetter', 'Chart#1': ['Career Offensive Statistics'], 'cols_1': ['DIG', 'D/S', 'RE', 'BS', 'BA', 'TB', 'B/S', 'BE', 'BHE', 'PTS', 'PTS/S'], 'cols_2': ['146', '1.54', '1', '0', '0', '0', '0.00', '2', '18', '24.0', '0.25'], 'Chart#2': ['Career Defensive Statistics']}, {'name': 'Taylor Borup', 'Chart#1': ['Career Offensive Statistics'], 'cols_1': [], 'cols_2': [], 'Chart#2': ['Career Defensive Statistics']}, {'name': 'Holly Carlton', 'Chart#1': ['Career Offensive Statistics'], 'cols_1': ['DIG', 'D/S', 'RE', 'BS', 'BA', 'TB', 'B/S', 'BE', 'BHE', 'PTS', 'PTS/S'], 'cols_2': ['218', '2.06', '0', '0', '76', '76', '0.72', '4', '12', '240.0', '2.26'], 'Chart#2': ['Career Defensive Statistics']}, {'name': 'Katharine Esterley', 'Chart#1': ['Career Offensive Statistics'], 'cols_1': ['DIG', 'D/S', 'RE', 'BS', 'BA', 'TB', 'B/S', 'BE', 'BHE', 'PTS', 'PTS/S'], 'cols_2': ['13', '0.15', '1', '3', '124', '127', '1.44', '10', '0', '143.0', '1.63'], 'Chart#2': ['Career Defensive Statistics']}, {'name': 'Casey Jacobs', 'Chart#1': ['Career Offensive Statistics'], 'cols_1': [], 'cols_2': ['141', '52', '3', '0.02', '0', '7', '.429', '88', '0.62', '8', '0.06', '30'], 'Chart#2': ['Career Defensive Statistics']}, {'name': 'Sydnye Fields', 'Chart#1': ['Career Offensive Statistics'], 'cols_1': [], 'cols_2': [], 'Chart#2': ['Career Defensive Statistics']}, {'name': 'Julia Scoles', 'Chart#1': ['Career Offensive Statistics'], 'cols_1': [], 'cols_2': [], 'Chart#2': ['Career Defensive Statistics']}, {'name': 'Mia Fradenburg', 'Chart#1': ['Career Offensive Statistics'], 'cols_1': [], 'cols_2': [], 'Chart#2': ['Career Defensive Statistics']}]\n",
      "Skipping current_stats for Madison Laufenberg\n",
      "Skipping gamehigh_stats for Madison Laufenberg\n",
      "[{'name': 'Mariah Evans', 'Chart#1': ['Career Offensive Statistics'], 'cols_1': ['DIG', 'D/S', 'RE', 'BS', 'BA', 'TB', 'B/S', 'BE', 'BHE', 'PTS', 'PTS/S'], 'cols_2': ['168', '1.38', '0', '0', '2', '2', '0.02', '0', '27', '25.0', '0.20'], 'Chart#2': ['Career Defensive Statistics']}, {'name': 'Kendra Koetter', 'Chart#1': ['Career Offensive Statistics'], 'cols_1': ['DIG', 'D/S', 'RE', 'BS', 'BA', 'TB', 'B/S', 'BE', 'BHE', 'PTS', 'PTS/S'], 'cols_2': ['146', '1.54', '1', '0', '0', '0', '0.00', '2', '18', '24.0', '0.25'], 'Chart#2': ['Career Defensive Statistics']}, {'name': 'Taylor Borup', 'Chart#1': ['Career Offensive Statistics'], 'cols_1': [], 'cols_2': [], 'Chart#2': ['Career Defensive Statistics']}, {'name': 'Holly Carlton', 'Chart#1': ['Career Offensive Statistics'], 'cols_1': ['DIG', 'D/S', 'RE', 'BS', 'BA', 'TB', 'B/S', 'BE', 'BHE', 'PTS', 'PTS/S'], 'cols_2': ['218', '2.06', '0', '0', '76', '76', '0.72', '4', '12', '240.0', '2.26'], 'Chart#2': ['Career Defensive Statistics']}, {'name': 'Katharine Esterley', 'Chart#1': ['Career Offensive Statistics'], 'cols_1': ['DIG', 'D/S', 'RE', 'BS', 'BA', 'TB', 'B/S', 'BE', 'BHE', 'PTS', 'PTS/S'], 'cols_2': ['13', '0.15', '1', '3', '124', '127', '1.44', '10', '0', '143.0', '1.63'], 'Chart#2': ['Career Defensive Statistics']}, {'name': 'Casey Jacobs', 'Chart#1': ['Career Offensive Statistics'], 'cols_1': [], 'cols_2': ['141', '52', '3', '0.02', '0', '7', '.429', '88', '0.62', '8', '0.06', '30'], 'Chart#2': ['Career Defensive Statistics']}, {'name': 'Sydnye Fields', 'Chart#1': ['Career Offensive Statistics'], 'cols_1': [], 'cols_2': [], 'Chart#2': ['Career Defensive Statistics']}, {'name': 'Julia Scoles', 'Chart#1': ['Career Offensive Statistics'], 'cols_1': [], 'cols_2': [], 'Chart#2': ['Career Defensive Statistics']}, {'name': 'Mia Fradenburg', 'Chart#1': ['Career Offensive Statistics'], 'cols_1': [], 'cols_2': [], 'Chart#2': ['Career Defensive Statistics']}, {'name': 'Madison Laufenberg', 'Chart#1': ['Career Offensive Statistics'], 'cols_1': [], 'cols_2': ['62', '28', '62', '1.00', '37', '219', '.114', '0', '0.00', '0', '0.00', '1'], 'Chart#2': ['Career Defensive Statistics']}]\n",
      "Skipping current_stats for Raleigh Clark\n",
      "Skipping career_stats for Raleigh Clark\n",
      "Skipping gamehigh_stats for Raleigh Clark\n"
     ]
    },
    {
     "ename": "ValueError",
     "evalue": "Selector needs either text or root argument",
     "output_type": "error",
     "traceback": [
      "\u001b[0;31m\u001b[0m",
      "\u001b[0;31mValueError\u001b[0mTraceback (most recent call last)",
      "\u001b[0;32m<ipython-input-97-46e5731ec0e8>\u001b[0m in \u001b[0;36m<module>\u001b[0;34m()\u001b[0m\n\u001b[1;32m      1\u001b[0m \u001b[0;32mfor\u001b[0m \u001b[0mp\u001b[0m \u001b[0;32min\u001b[0m \u001b[0mplayers\u001b[0m\u001b[0;34m:\u001b[0m\u001b[0;34m\u001b[0m\u001b[0m\n\u001b[0;32m----> 2\u001b[0;31m     \u001b[0mparse_stats\u001b[0m\u001b[0;34m(\u001b[0m\u001b[0mp\u001b[0m\u001b[0;34m)\u001b[0m\u001b[0;34m\u001b[0m\u001b[0m\n\u001b[0m",
      "\u001b[0;32m<ipython-input-96-297f362dac4e>\u001b[0m in \u001b[0;36mparse_stats\u001b[0;34m(player)\u001b[0m\n\u001b[1;32m      6\u001b[0m             \u001b[0;32mcontinue\u001b[0m\u001b[0;34m\u001b[0m\u001b[0m\n\u001b[1;32m      7\u001b[0m     \u001b[0mtxt\u001b[0m \u001b[0;34m=\u001b[0m \u001b[0mplayer\u001b[0m\u001b[0;34m[\u001b[0m\u001b[0;34m'raw_stats'\u001b[0m\u001b[0;34m]\u001b[0m\u001b[0;34m[\u001b[0m\u001b[0;34m'career_stats'\u001b[0m\u001b[0;34m]\u001b[0m\u001b[0;34m\u001b[0m\u001b[0m\n\u001b[0;32m----> 8\u001b[0;31m     \u001b[0msel\u001b[0m \u001b[0;34m=\u001b[0m \u001b[0mscrapy\u001b[0m\u001b[0;34m.\u001b[0m\u001b[0mSelector\u001b[0m\u001b[0;34m(\u001b[0m\u001b[0mtext\u001b[0m\u001b[0;34m=\u001b[0m\u001b[0mtxt\u001b[0m\u001b[0;34m)\u001b[0m\u001b[0;34m\u001b[0m\u001b[0m\n\u001b[0m\u001b[1;32m      9\u001b[0m     player_stats.append({\n\u001b[1;32m     10\u001b[0m             \u001b[0;34m\"name\"\u001b[0m\u001b[0;34m:\u001b[0m\u001b[0mget_name\u001b[0m\u001b[0;34m(\u001b[0m\u001b[0mplayer\u001b[0m\u001b[0;34m)\u001b[0m\u001b[0;34m,\u001b[0m\u001b[0;34m\u001b[0m\u001b[0m\n",
      "\u001b[0;32m/usr/lib/python3.6/site-packages/scrapy/selector/unified.py\u001b[0m in \u001b[0;36m__init__\u001b[0;34m(self, response, text, type, root, _root, **kwargs)\u001b[0m\n\u001b[1;32m     69\u001b[0m \u001b[0;34m\u001b[0m\u001b[0m\n\u001b[1;32m     70\u001b[0m         \u001b[0mself\u001b[0m\u001b[0;34m.\u001b[0m\u001b[0mresponse\u001b[0m \u001b[0;34m=\u001b[0m \u001b[0mresponse\u001b[0m\u001b[0;34m\u001b[0m\u001b[0m\n\u001b[0;32m---> 71\u001b[0;31m         \u001b[0msuper\u001b[0m\u001b[0;34m(\u001b[0m\u001b[0mSelector\u001b[0m\u001b[0;34m,\u001b[0m \u001b[0mself\u001b[0m\u001b[0;34m)\u001b[0m\u001b[0;34m.\u001b[0m\u001b[0m__init__\u001b[0m\u001b[0;34m(\u001b[0m\u001b[0mtext\u001b[0m\u001b[0;34m=\u001b[0m\u001b[0mtext\u001b[0m\u001b[0;34m,\u001b[0m \u001b[0mtype\u001b[0m\u001b[0;34m=\u001b[0m\u001b[0mst\u001b[0m\u001b[0;34m,\u001b[0m \u001b[0mroot\u001b[0m\u001b[0;34m=\u001b[0m\u001b[0mroot\u001b[0m\u001b[0;34m,\u001b[0m \u001b[0;34m**\u001b[0m\u001b[0mkwargs\u001b[0m\u001b[0;34m)\u001b[0m\u001b[0;34m\u001b[0m\u001b[0m\n\u001b[0m\u001b[1;32m     72\u001b[0m \u001b[0;34m\u001b[0m\u001b[0m\n\u001b[1;32m     73\u001b[0m     \u001b[0;31m# Deprecated api\u001b[0m\u001b[0;34m\u001b[0m\u001b[0;34m\u001b[0m\u001b[0m\n",
      "\u001b[0;32m/usr/lib/python3.6/site-packages/parsel/selector.py\u001b[0m in \u001b[0;36m__init__\u001b[0;34m(self, text, type, namespaces, root, base_url, _expr)\u001b[0m\n\u001b[1;32m    180\u001b[0m             \u001b[0mroot\u001b[0m \u001b[0;34m=\u001b[0m \u001b[0mself\u001b[0m\u001b[0;34m.\u001b[0m\u001b[0m_get_root\u001b[0m\u001b[0;34m(\u001b[0m\u001b[0mtext\u001b[0m\u001b[0;34m,\u001b[0m \u001b[0mbase_url\u001b[0m\u001b[0;34m)\u001b[0m\u001b[0;34m\u001b[0m\u001b[0m\n\u001b[1;32m    181\u001b[0m         \u001b[0;32melif\u001b[0m \u001b[0mroot\u001b[0m \u001b[0;32mis\u001b[0m \u001b[0;32mNone\u001b[0m\u001b[0;34m:\u001b[0m\u001b[0;34m\u001b[0m\u001b[0m\n\u001b[0;32m--> 182\u001b[0;31m             \u001b[0;32mraise\u001b[0m \u001b[0mValueError\u001b[0m\u001b[0;34m(\u001b[0m\u001b[0;34m\"Selector needs either text or root argument\"\u001b[0m\u001b[0;34m)\u001b[0m\u001b[0;34m\u001b[0m\u001b[0m\n\u001b[0m\u001b[1;32m    183\u001b[0m \u001b[0;34m\u001b[0m\u001b[0m\n\u001b[1;32m    184\u001b[0m         \u001b[0mself\u001b[0m\u001b[0;34m.\u001b[0m\u001b[0mnamespaces\u001b[0m \u001b[0;34m=\u001b[0m \u001b[0mdict\u001b[0m\u001b[0;34m(\u001b[0m\u001b[0mself\u001b[0m\u001b[0;34m.\u001b[0m\u001b[0m_default_namespaces\u001b[0m\u001b[0;34m)\u001b[0m\u001b[0;34m\u001b[0m\u001b[0m\n",
      "\u001b[0;31mValueError\u001b[0m: Selector needs either text or root argument"
     ]
    }
   ],
   "source": [
    "for p in players:\n",
    "    parse_stats(p)"
   ]
  },
  {
   "cell_type": "code",
   "execution_count": null,
   "metadata": {},
   "outputs": [],
   "source": [
    "#dump everything to the jason file"
   ]
  },
  {
   "cell_type": "code",
   "execution_count": 98,
   "metadata": {},
   "outputs": [],
   "source": [
    "to_dump = player_stats\n",
    "with open('scraped_players.json', 'w') as f:\n",
    "    json.dump(to_dump, f)"
   ]
  },
  {
   "cell_type": "code",
   "execution_count": null,
   "metadata": {},
   "outputs": [],
   "source": [
    "#I don't know what this line does but I copied it from Scrape_Heels_Baseball.ipynb"
   ]
  },
  {
   "cell_type": "code",
   "execution_count": 99,
   "metadata": {},
   "outputs": [
    {
     "name": "stdout",
     "output_type": "stream",
     "text": [
      "[{\"name\": \"Mariah Evans\", \"Chart#1\": [\"Career Offensive Statistics\"], \"cols_1\": [\"DIG\", \"D/S\", \"RE\",\r\n"
     ]
    }
   ],
   "source": [
    "cat scraped_players.json | cut -c 1-100"
   ]
  },
  {
   "cell_type": "code",
   "execution_count": null,
   "metadata": {},
   "outputs": [],
   "source": [
    "\n"
   ]
  },
  {
   "cell_type": "code",
   "execution_count": null,
   "metadata": {},
   "outputs": [],
   "source": [
    "\n"
   ]
  },
  {
   "cell_type": "code",
   "execution_count": null,
   "metadata": {},
   "outputs": [],
   "source": []
  },
  {
   "cell_type": "code",
   "execution_count": null,
   "metadata": {},
   "outputs": [],
   "source": [
    "\n"
   ]
  },
  {
   "cell_type": "code",
   "execution_count": null,
   "metadata": {},
   "outputs": [],
   "source": []
  },
  {
   "cell_type": "code",
   "execution_count": null,
   "metadata": {},
   "outputs": [],
   "source": []
  },
  {
   "cell_type": "code",
   "execution_count": null,
   "metadata": {},
   "outputs": [],
   "source": []
  },
  {
   "cell_type": "code",
   "execution_count": null,
   "metadata": {},
   "outputs": [],
   "source": []
  },
  {
   "cell_type": "code",
   "execution_count": null,
   "metadata": {},
   "outputs": [],
   "source": [
    "\n"
   ]
  },
  {
   "cell_type": "code",
   "execution_count": null,
   "metadata": {},
   "outputs": [],
   "source": []
  },
  {
   "cell_type": "code",
   "execution_count": null,
   "metadata": {},
   "outputs": [],
   "source": []
  },
  {
   "cell_type": "code",
   "execution_count": null,
   "metadata": {},
   "outputs": [],
   "source": []
  },
  {
   "cell_type": "code",
   "execution_count": null,
   "metadata": {},
   "outputs": [],
   "source": []
  },
  {
   "cell_type": "code",
   "execution_count": null,
   "metadata": {},
   "outputs": [],
   "source": []
  },
  {
   "cell_type": "code",
   "execution_count": null,
   "metadata": {},
   "outputs": [],
   "source": []
  },
  {
   "cell_type": "code",
   "execution_count": null,
   "metadata": {},
   "outputs": [],
   "source": []
  },
  {
   "cell_type": "code",
   "execution_count": null,
   "metadata": {},
   "outputs": [],
   "source": []
  },
  {
   "cell_type": "code",
   "execution_count": null,
   "metadata": {},
   "outputs": [],
   "source": []
  },
  {
   "cell_type": "code",
   "execution_count": null,
   "metadata": {},
   "outputs": [],
   "source": []
  }
 ],
 "metadata": {
  "kernelspec": {
   "display_name": "Python 3",
   "language": "python",
   "name": "python3"
  },
  "language_info": {
   "codemirror_mode": {
    "name": "ipython",
    "version": 3
   },
   "file_extension": ".py",
   "mimetype": "text/x-python",
   "name": "python",
   "nbconvert_exporter": "python",
   "pygments_lexer": "ipython3",
   "version": "3.6.3"
  }
 },
 "nbformat": 4,
 "nbformat_minor": 2
}
